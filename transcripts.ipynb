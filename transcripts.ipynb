{
 "cells": [
  {
   "cell_type": "markdown",
   "id": "57471517",
   "metadata": {},
   "source": [
    "\n"
   ]
  },
  {
   "cell_type": "code",
   "execution_count": null,
   "id": "2ea53179",
   "metadata": {},
   "outputs": [],
   "source": [
    "import requests\n",
    "import hashlib\n",
    "import time\n",
    "import json"
   ]
  },
  {
   "cell_type": "code",
   "execution_count": null,
   "id": "dde19913",
   "metadata": {},
   "outputs": [],
   "source": [
    "API_KEY = \"4YCF385ZNXLEHADRUSFV\"\n",
    "API_SECRET = \"YcjAfd9x7S$$qX^4u#n$rvLD$X6c^pT87ShWvF3V\""
   ]
  },
  {
   "cell_type": "code",
   "execution_count": null,
   "id": "0cfdce12",
   "metadata": {},
   "outputs": [],
   "source": [
    "# Generate the timestamp\n",
    "timestamp = str(int(time.time()))\n",
    "auth_hash = hashlib.sha1((API_KEY + API_SECRET + timestamp).encode('utf-8')).hexdigest()\n",
    "\n",
    "headers = {\n",
    "    \"X-Auth-Date\": timestamp,\n",
    "    \"X-Auth-Key\": API_KEY,\n",
    "    \"Authorization\": auth_hash,\n",
    "    \"User-Agent\": \"PodcastIndex-Client\"\n",
    "}\n",
    "\n",
    "# Step 1: Get Trending Podcasts\n",
    "url = \"https://api.podcastindex.org/api/1.0/podcasts/trending\"\n",
    "params = {\"max\": 200}  # Get up to 200 trending podcasts\n",
    "\n",
    "response = requests.get(url, headers=headers, params=params)\n",
    "trending_podcasts = response.json().get(\"feeds\", [])\n",
    "\n",
    "print(f\"Retrieved {len(trending_podcasts)} trending podcasts.\")"
   ]
  },
  {
   "cell_type": "code",
   "execution_count": null,
   "id": "499738f8",
   "metadata": {},
   "outputs": [],
   "source": [
    "\n",
    "# Step 1: Download trending podcasts\n",
    "url = \"https://api.podcastindex.org/api/1.0/podcasts/trending\"\n",
    "\n",
    "response = requests.get(url, headers=headers)\n",
    "trending_data = response.json()\n",
    "\n",
    "# Step 2: Extract relevant fields\n",
    "trending_podcasts = trending_data.get(\"feeds\", [])\n",
    "\n",
    "simplified_podcasts = [\n",
    "    {\n",
    "        \"title\": feed.get(\"title\"),\n",
    "        \"url\": feed.get(\"url\"),\n",
    "        \"description\": feed.get(\"description\"),\n",
    "        \"id\": feed.get(\"id\")\n",
    "    }\n",
    "    for feed in trending_podcasts\n",
    "]\n",
    "\n",
    "# Step 3: Save to JSON file\n",
    "output_path = \"top_podcasts.json\"\n",
    "with open(output_path, \"w\") as f:\n",
    "    json.dump(simplified_podcasts, f, indent=4)\n",
    "\n",
    "print(f\"Saved {len(simplified_podcasts)} podcasts to {output_path}\")\n"
   ]
  },
  {
   "cell_type": "code",
   "execution_count": null,
   "id": "2a7469c7",
   "metadata": {},
   "outputs": [],
   "source": [
    "# Step 2: Get Episodes for Each Podcast\n",
    "all_episodes = []\n",
    "\n",
    "for podcast in trending_podcasts:\n",
    "    feed_id = podcast.get(\"id\")\n",
    "    podcast_title = podcast.get(\"title\")\n",
    "\n",
    "    # Fetch episodes for the podcast\n",
    "    episodes_url = f\"https://api.podcastindex.org/api/1.0/episodes/byfeedid\"\n",
    "    response = requests.get(episodes_url, headers=headers, params={\"id\": feed_id})\n",
    "\n",
    "    if response.status_code == 200:\n",
    "        episodes = response.json().get(\"items\", [])\n",
    "        for episode in episodes:\n",
    "            audio_url = episode.get(\"enclosureUrl\")\n",
    "            episode_title = episode.get(\"title\")\n",
    "\n",
    "            # Collect relevant data\n",
    "            all_episodes.append({\n",
    "                \"podcast\": podcast_title,\n",
    "                \"episode_title\": episode_title,\n",
    "                \"audio_url\": audio_url\n",
    "            })\n",
    "    else:\n",
    "        print(f\"Failed to get episodes for feed ID {feed_id}\")\n",
    "\n",
    "print(f\"Collected {len(all_episodes)} episodes.\")\n",
    "\n",
    "# Print sample data\n",
    "print(all_episodes[:5])  # Print the first 5 entries\n",
    "\n"
   ]
  },
  {
   "cell_type": "code",
   "execution_count": null,
   "id": "e0308645",
   "metadata": {},
   "outputs": [],
   "source": [
    "import json\n",
    "with open(\"podcast_data.json\", \"w\") as json_file:\n",
    "    json.dump(all_episodes, json_file, indent=4)"
   ]
  },
  {
   "cell_type": "code",
   "execution_count": null,
   "id": "10680a5a",
   "metadata": {},
   "outputs": [],
   "source": [
    "# Iterate through each podcast entry\n",
    "for episode in all_episodes:\n",
    "    podcast_name = episode.get(\"podcast\", \"unknown_podcast\")\n",
    "    episode_title = episode.get(\"episode_title\", \"unknown_episode\")\n",
    "    audio_url = episode.get(\"audio_url\")\n",
    "\n",
    "    # Construct output filename safely\n",
    "    safe_title = episode_title.replace(\" \", \"_\").replace(\"/\", \"_\")\n",
    "    output_file = f\"{podcast_name}_{safe_title}.txt\"\n",
    "\n",
    "    # Check if the audio_url is valid\n",
    "    if audio_url and audio_url.strip():\n",
    "        print(f\"Transcribing {episode_title} from {audio_url}\")\n",
    "        try:\n",
    "            # Run podscript command\n",
    "            result = subprocess.run(\n",
    "                [\n",
    "                    \"/Users/terezasaskova/go/bin/podscript\",\n",
    "                     \"assembly-ai\",\n",
    "                     \"--from-url\", audio_url,\n",
    "                    \"--output\", output_file\n",
    "                ],\n",
    "                check=True,\n",
    "                capture_output=True,\n",
    "                text=True\n",
    "            )\n",
    "\n",
    "            print(f\"✅ Transcript saved to {output_file}\")\n",
    "\n",
    "        except subprocess.CalledProcessError as e:\n",
    "            print(f\"❌ Subprocess error:\\n{e.stderr}\")\n",
    "        except Exception as e:\n",
    "            print(f\"❌ Exception occurred: {e}\")\n",
    "    else:\n",
    "        print(f\"❌ No valid audio URL found for {episode_title}\")\n",
    "\n",
    "print(\"Transcription process complete.\")\n"
   ]
  }
 ],
 "metadata": {
  "kernelspec": {
   "display_name": "base",
   "language": "python",
   "name": "python3"
  },
  "language_info": {
   "codemirror_mode": {
    "name": "ipython",
    "version": 3
   },
   "file_extension": ".py",
   "mimetype": "text/x-python",
   "name": "python",
   "nbconvert_exporter": "python",
   "pygments_lexer": "ipython3",
   "version": "3.11.7"
  }
 },
 "nbformat": 4,
 "nbformat_minor": 5
}
