{
 "cells": [
  {
   "cell_type": "markdown",
   "id": "57471517",
   "metadata": {},
   "source": [
    "\n"
   ]
  },
  {
   "cell_type": "code",
   "execution_count": 1,
   "id": "2ea53179",
   "metadata": {},
   "outputs": [],
   "source": [
    "import requests\n",
    "import hashlib\n",
    "import time\n",
    "import json\n",
    "import time\n",
    "import whisper\n",
    "import os\n",
    "import subprocess\n",
    "from pathlib import Path\n",
    "import sys\n",
    "import tempfile\n"
   ]
  },
  {
   "cell_type": "code",
   "execution_count": 2,
   "id": "dde19913",
   "metadata": {},
   "outputs": [],
   "source": [
    "#api fro podcastindex\n",
    "\n",
    "API_KEY = \"4YCF385ZNXLEHADRUSFV\"\n",
    "API_SECRET = \"YcjAfd9x7S$$qX^4u#n$rvLD$X6c^pT87ShWvF3V\""
   ]
  },
  {
   "cell_type": "code",
   "execution_count": 3,
   "id": "0cfdce12",
   "metadata": {},
   "outputs": [
    {
     "name": "stdout",
     "output_type": "stream",
     "text": [
      "Retrieved 50 trending podcasts.\n"
     ]
    }
   ],
   "source": [
    "#set up podcastindex api and retrive 50 treending podcast(random engagement/recent top50)\n",
    "\n",
    "timestamp = str(int(time.time()))\n",
    "auth_hash = hashlib.sha1((API_KEY + API_SECRET + timestamp).encode('utf-8')).hexdigest()\n",
    "\n",
    "headers = {\n",
    "    \"X-Auth-Date\": timestamp,\n",
    "    \"X-Auth-Key\": API_KEY,\n",
    "    \"Authorization\": auth_hash,\n",
    "    \"User-Agent\": \"PodcastIndex-Client\"\n",
    "}\n",
    "\n",
    "# Step 1: Get Trending Podcasts\n",
    "url = \"https://api.podcastindex.org/api/1.0/podcasts/trending\"\n",
    "params = {\"max\": 50}  # Get up to 200 trending podcasts\n",
    "\n",
    "response = requests.get(url, headers=headers, params=params)\n",
    "trending_podcasts = response.json().get(\"feeds\", [])\n",
    "\n",
    "print(f\"Retrieved {len(trending_podcasts)} trending podcasts.\")"
   ]
  },
  {
   "cell_type": "code",
   "execution_count": 4,
   "id": "499738f8",
   "metadata": {},
   "outputs": [
    {
     "name": "stdout",
     "output_type": "stream",
     "text": [
      "Saved 50 podcasts to top_podcasts.json\n"
     ]
    }
   ],
   "source": [
    "#save top 50 podcast json\n",
    "\n",
    "url = \"https://api.podcastindex.org/api/1.0/podcasts/trending\"\n",
    "response = requests.get(url, headers=headers, params=params)\n",
    "trending_data = response.json()\n",
    "\n",
    "#Extract relevant fields- only retrievable meta data from podcstindex\n",
    "trending_data = response.json()\n",
    "trending_podcasts = trending_data.get(\"feeds\", [])\n",
    "\n",
    "simplified_podcasts = [\n",
    "    {\n",
    "        \"title\": feed.get(\"title\"),\n",
    "        \"url\": feed.get(\"url\"),\n",
    "        \"description\": feed.get(\"description\"),\n",
    "        \"id\": feed.get(\"id\"),\n",
    "        \"author\": feed.get(\"author\"),\n",
    "    }\n",
    "    for feed in trending_podcasts\n",
    "]\n",
    "\n",
    "\n",
    "#Save to JSON file\n",
    "output_path = \"top_podcasts.json\"\n",
    "with open(output_path, \"w\") as f:\n",
    "    json.dump(simplified_podcasts, f, indent=4)\n",
    "\n",
    "print(f\"Saved {len(simplified_podcasts)} podcasts to {output_path}\")"
   ]
  },
  {
   "cell_type": "code",
   "execution_count": 5,
   "id": "e0308645",
   "metadata": {},
   "outputs": [
    {
     "name": "stdout",
     "output_type": "stream",
     "text": [
      "Fetching episodes for: Kan Hourly News כאן רשת ב חדשות השעה\n",
      "Fetching episodes for: Raw with Mindy and Boots\n",
      "Fetching episodes for: Bulwark Takes\n",
      "Fetching episodes for: Project 2025: The Ominous Specter\n",
      "Fetching episodes for: Rated (R) Rucchi Show\n",
      "Fetching episodes for: Locked On Orioles - Daily Podcast On The Baltimore Orioles\n",
      "Fetching episodes for: Locked On Rangers - Daily Podcast On The Texas Rangers\n",
      "Fetching episodes for: پیام محبت\n",
      "Fetching episodes for: زندگی تازه\n",
      "Fetching episodes for: آواز نجات\n",
      "Fetching episodes for: فرزندان نور\n",
      "Fetching episodes for: نان روزانۀ ما\n",
      "Fetching episodes for: دورۀ شاگردسازی\n",
      "Fetching episodes for: تمام کتاب\n",
      "Fetching episodes for: Daily Motivational Positivity\n",
      "Fetching episodes for: Beyond The Horizon\n",
      "Fetching episodes for: Experiencia Kidzania Monterrey\n",
      "Fetching episodes for: Locked On Red Sox - Daily Podcast On The Boston Red Sox\n",
      "Fetching episodes for: On Life & Being Human\n",
      "Fetching episodes for: Divine Providence: The Podcast\n",
      "Fetching episodes for: Man 2 Man | مان 2 مان\n",
      "Fetching episodes for: The Movie Defenders\n",
      "Fetching episodes for: Level Up Awareness\n",
      "Fetching episodes for: Behind The Shield\n",
      "Fetching episodes for: Weird Darkness: Paranormal & True Crime Stories\n",
      "Fetching episodes for: The True Crime Tapes\n",
      "Fetching episodes for: The Real Deal with Courtney Harden\n",
      "Fetching episodes for: Locked On Brewers- Daily Podcast On The Milwaukee Brewers\n",
      "Fetching episodes for: wedferferfewrf\n",
      "Fetching episodes for: Dr. Hazem Shouman\n",
      "Fetching episodes for: Poisonrana\n",
      "Fetching episodes for: Happy Jacks RPG Actual Plays\n",
      "Fetching episodes for: Čteme vám Seznam Zprávy\n",
      "Fetching episodes for: Theatre Tales of the Techie\n",
      "Fetching episodes for: Health – America Out Loud News\n",
      "Fetching episodes for: Locked On Cubs - Daily Podcast On The Chicago Cubs\n",
      "Fetching episodes for: 富爸爸-财商思维学习\n",
      "Fetching episodes for: Experience The Big Book\n",
      "Fetching episodes for: Ray William Johnson: True Story Podcast\n",
      "Fetching episodes for: 聞く之助の『ツボ』チャンネル\n",
      "Fetching episodes for: The Grand Canyon Hiker Dude Show\n",
      "Fetching episodes for: Diplomacia Activa\n",
      "Fetching episodes for: Scale Model Podcast\n",
      "Fetching episodes for: سرترالين | sertraline\n",
      "Fetching episodes for: Real Estate Insider Podcast\n",
      "Fetching episodes for: Kajian Sunnah\n",
      "Fetching episodes for: 早安英文-每日外刊精读\n",
      "Fetching episodes for: پادکست آنالوگ\n",
      "Fetching episodes for: How To Carnivore\n",
      "Fetching episodes for: NER Kids\n",
      "✅ Saved 50 episodes to top_episodes.json\n"
     ]
    }
   ],
   "source": [
    "#save episods of these podcasts to top_podcst.json\n",
    "\n",
    "with open(\"top_podcasts.json\", \"r\") as f:\n",
    "    podcasts = json.load(f)\n",
    "\n",
    "all_episodes = []\n",
    "\n",
    "for podcast in podcasts:\n",
    "    feed_id = podcast.get(\"id\")\n",
    "    podcast_title = podcast.get(\"title\")\n",
    "\n",
    "    print(f\"Fetching episodes for: {podcast_title}\")\n",
    "\n",
    "    response = requests.get(\n",
    "        \"https://api.podcastindex.org/api/1.0/episodes/byfeedid\",\n",
    "        headers=headers,\n",
    "        params= {\"id\": feed_id, \"max\": 1} #more episodes from one podcast - change max\n",
    "    )\n",
    "\n",
    "    if response.status_code == 200:\n",
    "        episodes = response.json().get(\"items\", [])\n",
    "        for ep in episodes:\n",
    "            all_episodes.append({\n",
    "                \"podcast\": podcast_title,\n",
    "                \"episode_title\": ep.get(\"title\"),\n",
    "                \"audio_url\": ep.get(\"enclosureUrl\"),\n",
    "                \"id\": ep.get(\"id\")\n",
    "            })\n",
    "    \n",
    "\n",
    "with open(\"top_episodes.json\", \"w\") as f:\n",
    "    json.dump(all_episodes, f, indent=4)\n",
    "\n",
    "print(f\"✅ Saved {len(all_episodes)} episodes to top_episodes.json\")"
   ]
  },
  {
   "cell_type": "code",
   "execution_count": 1,
   "id": "696b8e30",
   "metadata": {},
   "outputs": [
    {
     "name": "stdout",
     "output_type": "stream",
     "text": [
      "[MODEL] Loading Whisper model: base on cpu\n",
      "[THREADING] Using 4 threads\n",
      "[FETCHING] Kan News @23 on 1/6/2025\n",
      "[FETCHING] YouTube Channel Peak Retirement Planning 6/1/25\n",
      "[FETCHING] The GOP’s Healthcare Flimflammery Is The New Big Lie\n",
      "[FETCHING] Controversial Project 2025 Threatens to Centralize Executive Power and Erode Democratic Safeguards in the United States\n",
      "[CONVERTING] Kan News @23 on 1/6/2025\n",
      "[CONVERTING] YouTube Channel Peak Retirement Planning 6/1/25\n",
      "[CONVERTING] Controversial Project 2025 Threatens to Centralize Executive Power and Erode Democratic Safeguards in the United States\n",
      "[CONVERTING] The GOP’s Healthcare Flimflammery Is The New Big Lie\n",
      "[TRANSCRIBING] Kan News @23 on 1/6/2025\n"
     ]
    },
    {
     "name": "stderr",
     "output_type": "stream",
     "text": [
      "/opt/anaconda3/lib/python3.11/site-packages/whisper/transcribe.py:126: UserWarning: FP16 is not supported on CPU; using FP32 instead\n",
      "  warnings.warn(\"FP16 is not supported on CPU; using FP32 instead\")\n"
     ]
    },
    {
     "name": "stdout",
     "output_type": "stream",
     "text": [
      "[TRANSCRIBING] YouTube Channel Peak Retirement Planning 6/1/25\n"
     ]
    },
    {
     "name": "stderr",
     "output_type": "stream",
     "text": [
      "/opt/anaconda3/lib/python3.11/site-packages/whisper/transcribe.py:126: UserWarning: FP16 is not supported on CPU; using FP32 instead\n",
      "  warnings.warn(\"FP16 is not supported on CPU; using FP32 instead\")\n",
      "OMP: Warning #191: Forking a process while a parallel region is active is potentially unsafe.\n"
     ]
    },
    {
     "name": "stdout",
     "output_type": "stream",
     "text": [
      "[TRANSCRIBING] Controversial Project 2025 Threatens to Centralize Executive Power and Erode Democratic Safeguards in the United States\n"
     ]
    },
    {
     "name": "stderr",
     "output_type": "stream",
     "text": [
      "/opt/anaconda3/lib/python3.11/site-packages/whisper/transcribe.py:126: UserWarning: FP16 is not supported on CPU; using FP32 instead\n",
      "  warnings.warn(\"FP16 is not supported on CPU; using FP32 instead\")\n"
     ]
    },
    {
     "name": "stdout",
     "output_type": "stream",
     "text": [
      "[TRANSCRIBING] The GOP’s Healthcare Flimflammery Is The New Big Lie\n"
     ]
    },
    {
     "name": "stderr",
     "output_type": "stream",
     "text": [
      "/opt/anaconda3/lib/python3.11/site-packages/whisper/transcribe.py:126: UserWarning: FP16 is not supported on CPU; using FP32 instead\n",
      "  warnings.warn(\"FP16 is not supported on CPU; using FP32 instead\")\n",
      "OMP: Warning #191: Forking a process while a parallel region is active is potentially unsafe.\n",
      "OMP: Warning #191: Forking a process while a parallel region is active is potentially unsafe.\n"
     ]
    },
    {
     "name": "stdout",
     "output_type": "stream",
     "text": [
      "[ERROR] YouTube Channel Peak Retirement Planning 6/1/25: Linear(in_features=512, out_features=512, bias=True)\n",
      "[FETCHING] _️ __INTRODUCING_ RATED R RUCCHI RADIO SHOW__ _ A_K_A_ Trench_ Princess    Get ready for the realest\n",
      "[CONVERTING] _️ __INTRODUCING_ RATED R RUCCHI RADIO SHOW__ _ A_K_A_ Trench_ Princess    Get ready for the realest\n"
     ]
    },
    {
     "name": "stderr",
     "output_type": "stream",
     "text": [
      "OMP: Warning #191: Forking a process while a parallel region is active is potentially unsafe.\n",
      "OMP: Warning #191: Forking a process while a parallel region is active is potentially unsafe.\n"
     ]
    },
    {
     "name": "stdout",
     "output_type": "stream",
     "text": [
      "[ERROR] The GOP’s Healthcare Flimflammery Is The New Big Lie: cannot reshape tensor of 0 elements into shape [1, 0, 8, -1] because the unspecified dimension size -1 can be any value and is ambiguous\n",
      "[FETCHING] ORIOLES POSTCAST: Charlie Morton SHUTS DOWN Chicago White Sox, Baltimore Orioles earn sweep!\n",
      "[CONVERTING] ORIOLES POSTCAST: Charlie Morton SHUTS DOWN Chicago White Sox, Baltimore Orioles earn sweep!\n"
     ]
    },
    {
     "name": "stderr",
     "output_type": "stream",
     "text": [
      "OMP: Warning #191: Forking a process while a parallel region is active is potentially unsafe.\n",
      "OMP: Warning #191: Forking a process while a parallel region is active is potentially unsafe.\n"
     ]
    },
    {
     "name": "stdout",
     "output_type": "stream",
     "text": [
      "[TRANSCRIBING] _️ __INTRODUCING_ RATED R RUCCHI RADIO SHOW__ _ A_K_A_ Trench_ Princess    Get ready for the realest\n"
     ]
    },
    {
     "name": "stderr",
     "output_type": "stream",
     "text": [
      "/opt/anaconda3/lib/python3.11/site-packages/whisper/transcribe.py:126: UserWarning: FP16 is not supported on CPU; using FP32 instead\n",
      "  warnings.warn(\"FP16 is not supported on CPU; using FP32 instead\")\n",
      "OMP: Warning #191: Forking a process while a parallel region is active is potentially unsafe.\n"
     ]
    },
    {
     "name": "stdout",
     "output_type": "stream",
     "text": [
      "[TRANSCRIBING] ORIOLES POSTCAST: Charlie Morton SHUTS DOWN Chicago White Sox, Baltimore Orioles earn sweep!\n"
     ]
    },
    {
     "name": "stderr",
     "output_type": "stream",
     "text": [
      "/opt/anaconda3/lib/python3.11/site-packages/whisper/transcribe.py:126: UserWarning: FP16 is not supported on CPU; using FP32 instead\n",
      "  warnings.warn(\"FP16 is not supported on CPU; using FP32 instead\")\n",
      "OMP: Warning #191: Forking a process while a parallel region is active is potentially unsafe.\n"
     ]
    },
    {
     "ename": "",
     "evalue": "",
     "output_type": "error",
     "traceback": [
      "\u001b[1;31mThe Kernel crashed while executing code in the current cell or a previous cell. \n",
      "\u001b[1;31mPlease review the code in the cell(s) to identify a possible cause of the failure. \n",
      "\u001b[1;31mClick <a href='https://aka.ms/vscodeJupyterKernelCrash'>here</a> for more info. \n",
      "\u001b[1;31mView Jupyter <a href='command:jupyter.viewOutput'>log</a> for further details."
     ]
    }
   ],
   "source": []
  }
 ],
 "metadata": {
  "kernelspec": {
   "display_name": "base",
   "language": "python",
   "name": "python3"
  },
  "language_info": {
   "codemirror_mode": {
    "name": "ipython",
    "version": 3
   },
   "file_extension": ".py",
   "mimetype": "text/x-python",
   "name": "python",
   "nbconvert_exporter": "python",
   "pygments_lexer": "ipython3",
   "version": "3.11.7"
  }
 },
 "nbformat": 4,
 "nbformat_minor": 5
}
